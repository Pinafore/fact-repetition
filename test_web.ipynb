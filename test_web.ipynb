{
 "cells": [
  {
   "cell_type": "code",
   "execution_count": 1,
   "metadata": {},
   "outputs": [],
   "source": [
    "import os\n",
    "import json\n",
    "import pickle\n",
    "import requests\n",
    "import collections\n",
    "import pandas as pd\n",
    "import numpy as np\n",
    "from tqdm import tqdm"
   ]
  },
  {
   "cell_type": "code",
   "execution_count": null,
   "metadata": {},
   "outputs": [],
   "source": [
    "with open('data/jeopardy_358974_questions_20190612.pkl', 'rb') as f:\n",
    "    karl_to_question_id = pickle.load(f).to_dict()['question_id']\n",
    "with open('data/jeopardy_310326_question_player_pairs_20190612.pkl', 'rb') as f:\n",
    "    records_df = pickle.load(f)\n",
    "    \n",
    "def get_result(card):\n",
    "    record_id = karl_to_question_id[int(card['question_id'])]\n",
    "    prob = (records_df[records_df.question_id == record_id]['correct'] / 2 + 0.5).mean()\n",
    "    return 'correct' if prob > 0.5 else 'wrong'"
   ]
  },
  {
   "cell_type": "code",
   "execution_count": null,
   "metadata": {
    "scrolled": true
   },
   "outputs": [],
   "source": [
    "with open('data/diagnostic_questions.pkl', 'rb') as f:\n",
    "    cards = pickle.load(f)\n",
    "    \n",
    "shown_cards = []\n",
    "results = []\n",
    "while len(shown_cards) < 300:\n",
    "    r = requests.post('http://127.0.0.1:8000/api/karl/schedule', data=json.dumps(cards))\n",
    "    r = json.loads(r.text)\n",
    "    show_card = cards[r['order'][0]]\n",
    "    show_card['label'] = get_result(show_card)\n",
    "    shown_cards.append(show_card)\n",
    "    results.append(1 if show_card['label'] == 'correct' else 0)\n",
    "    print('{: <40}{: <20}{: <20}{: <20}'.format(\n",
    "        show_card['answer'],\n",
    "        show_card['category'],\n",
    "        show_card['label'],\n",
    "        np.mean(results)\n",
    "    ))\n",
    "    print(r['rationale'])\n",
    "    print()\n",
    "    r = requests.post('http://127.0.0.1:8000/api/karl/update', data=json.dumps([show_card]))\n",
    "    cards = [x for x in cards if x['question_id'] != show_card['question_id']]"
   ]
  },
  {
   "cell_type": "code",
   "execution_count": 5,
   "metadata": {},
   "outputs": [],
   "source": [
    "import pickle\n",
    "from scheduler import MovingAvgScheduler"
   ]
  },
  {
   "cell_type": "code",
   "execution_count": 3,
   "metadata": {},
   "outputs": [],
   "source": [
    "with open('data/diagnostic_questions.pkl', 'rb') as f:\n",
    "    cards = pickle.load(f)"
   ]
  },
  {
   "cell_type": "code",
   "execution_count": 6,
   "metadata": {},
   "outputs": [
    {
     "name": "stdout",
     "output_type": "stream",
     "text": [
      "loading question and records...\n",
      "merging dfs...\n",
      "scheduler ready\n"
     ]
    },
    {
     "name": "stderr",
     "output_type": "stream",
     "text": [
      "/fs/clip-quiz/shifeng/anaconda/lib/python3.7/site-packages/sklearn/base.py:306: UserWarning: Trying to unpickle estimator CountVectorizer from version 0.21.2 when using version 0.21.3. This might lead to breaking code or invalid results. Use at your own risk.\n",
      "  UserWarning)\n",
      "/fs/clip-quiz/shifeng/anaconda/lib/python3.7/site-packages/sklearn/base.py:306: UserWarning: Trying to unpickle estimator LatentDirichletAllocation from version 0.21.2 when using version 0.21.3. This might lead to breaking code or invalid results. Use at your own risk.\n",
      "  UserWarning)\n"
     ]
    }
   ],
   "source": [
    "scheduler = MovingAvgScheduler(db_filename='db_test.sqlite')"
   ]
  },
  {
   "cell_type": "code",
   "execution_count": 8,
   "metadata": {},
   "outputs": [
    {
     "name": "stdout",
     "output_type": "stream",
     "text": [
      "[0.00833333 0.00833333 0.00833333 0.00833333 0.00833333 0.00833333\n",
      " 0.00833333 0.00833333 0.00833333 0.00833333 0.00833333 0.00833333\n",
      " 0.00833333 0.00833333 0.00833333 0.00833333 0.00833333 0.00833333\n",
      " 0.00833333 0.84166667]\n",
      "[0. 0. 0. 0. 0. 0. 0. 0. 0. 0. 0. 0. 0. 0. 0. 0. 0. 0. 0. 0.] 20\n",
      "19\n"
     ]
    }
   ],
   "source": [
    "qrep = scheduler.embed_one(cards[0])\n",
    "print(qrep)\n",
    "skill = np.zeros_like(qrep)\n",
    "print(skill, skill.size)\n",
    "print(np.argmax(qrep))\n",
    "skill[np.argmax(qrep)] = 1\n",
    "skill *= scheduler.predict_one(cards[0])"
   ]
  },
  {
   "cell_type": "code",
   "execution_count": null,
   "metadata": {},
   "outputs": [],
   "source": []
  }
 ],
 "metadata": {
  "kernelspec": {
   "display_name": "Python 3",
   "language": "python",
   "name": "python3"
  },
  "language_info": {
   "codemirror_mode": {
    "name": "ipython",
    "version": 3
   },
   "file_extension": ".py",
   "mimetype": "text/x-python",
   "name": "python",
   "nbconvert_exporter": "python",
   "pygments_lexer": "ipython3",
   "version": "3.7.6"
  }
 },
 "nbformat": 4,
 "nbformat_minor": 2
}

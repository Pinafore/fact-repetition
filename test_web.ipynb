{
 "cells": [
  {
   "cell_type": "code",
   "execution_count": 1,
   "metadata": {},
   "outputs": [],
   "source": [
    "import os\n",
    "import json\n",
    "import pickle\n",
    "import requests\n",
    "import collections\n",
    "import pandas as pd\n",
    "import numpy as np\n",
    "from tqdm import tqdm"
   ]
  },
  {
   "cell_type": "code",
   "execution_count": 3,
   "metadata": {},
   "outputs": [],
   "source": [
    "with open('data/jeopardy_358974_questions_20190612.pkl', 'rb') as f:\n",
    "    karl_to_question_id = pickle.load(f).to_dict()['question_id']\n",
    "with open('data/jeopardy_310326_question_player_pairs_20190612.pkl', 'rb') as f:\n",
    "    records_df = pickle.load(f)\n",
    "    \n",
    "def get_result(card):\n",
    "    record_id = karl_to_question_id[int(card['question_id'])]\n",
    "    prob = (records_df[records_df.question_id == record_id]['correct'] / 2 + 0.5).mean()\n",
    "    return 'correct' if prob > 0.5 else 'wrong'"
   ]
  },
  {
   "cell_type": "code",
   "execution_count": 28,
   "metadata": {},
   "outputs": [
    {
     "name": "stdout",
     "output_type": "stream",
     "text": [
      "Bashar al-Assad                         WORLD LEADERS       wrong               0.0                 \n",
      "qrep: 0.724\n",
      "skill: 0.139\n",
      "category: 0.000\n",
      "leitner: 0.000\n",
      "sm2: 0.000\n",
      "sum: 0.170\n",
      "user: 0.568\n",
      "card: 0.429\n",
      "topic: 17.000\n",
      "\n",
      "Germany & the Czech Republic            WORLD GEOGRAPHY     correct             0.5                 \n",
      "qrep: 0.783\n",
      "skill: 0.054\n",
      "category: 0.000\n",
      "leitner: 0.000\n",
      "sm2: 0.000\n",
      "sum: 0.116\n",
      "user: 0.609\n",
      "card: 0.556\n",
      "topic: 13.000\n",
      "\n",
      "1930s                                   TECHNOLOGY          wrong               0.3333333333333333  \n",
      "qrep: 0.172\n",
      "skill: 0.035\n",
      "category: 1.000\n",
      "leitner: 0.000\n",
      "sm2: 0.000\n",
      "sum: 0.342\n",
      "user: 0.727\n",
      "card: 0.692\n",
      "topic: 3.000\n",
      "\n",
      "_Nash Bridges_                          TELEVISION          wrong               0.25                \n",
      "qrep: 0.220\n",
      "skill: 0.032\n",
      "category: 1.000\n",
      "leitner: 0.000\n",
      "sm2: 0.000\n",
      "sum: 0.344\n",
      "user: 0.318\n",
      "card: 0.286\n",
      "topic: 12.000\n",
      "\n",
      "king                                    GAMES               correct             0.4                 \n",
      "qrep: 0.267\n",
      "skill: 0.182\n",
      "category: 0.000\n",
      "leitner: 0.000\n",
      "sm2: 0.000\n",
      "sum: 0.154\n",
      "user: 0.382\n",
      "card: 0.200\n",
      "topic: 14.000\n",
      "\n"
     ]
    }
   ],
   "source": [
    "with open('data/diagnostic_questions.pkl', 'rb') as f:\n",
    "    cards = pickle.load(f)\n",
    "\n",
    "for i, card in enumerate(cards):\n",
    "    cards[i]['user_id'] = 'diagnostic'\n",
    "\n",
    "requests.post('http://127.0.0.1:8000/api/karl/reset')\n",
    "\n",
    "shown_cards = []\n",
    "results = []\n",
    "while len(shown_cards) < 5:\n",
    "    r = requests.post('http://127.0.0.1:8000/api/karl/schedule', data=json.dumps(cards))\n",
    "    r = json.loads(r.text)\n",
    "    show_card = cards[r['order'][0]]\n",
    "    show_card['label'] = get_result(show_card)\n",
    "    shown_cards.append(show_card)\n",
    "    results.append(1 if show_card['label'] == 'correct' else 0)\n",
    "    print('{: <40}{: <20}{: <20}{: <20}'.format(\n",
    "        show_card['answer'],\n",
    "        show_card['category'],\n",
    "        show_card['label'],\n",
    "        np.mean(results)\n",
    "    ))\n",
    "    print(r['rationale'])\n",
    "    print()\n",
    "    r = requests.post('http://127.0.0.1:8000/api/karl/update', data=json.dumps([show_card]))\n",
    "    cards = [x for x in cards if x['question_id'] != show_card['question_id']]"
   ]
  }
 ],
 "metadata": {
  "kernelspec": {
   "display_name": "Python 3",
   "language": "python",
   "name": "python3"
  },
  "language_info": {
   "codemirror_mode": {
    "name": "ipython",
    "version": 3
   },
   "file_extension": ".py",
   "mimetype": "text/x-python",
   "name": "python",
   "nbconvert_exporter": "python",
   "pygments_lexer": "ipython3",
   "version": "3.7.6"
  }
 },
 "nbformat": 4,
 "nbformat_minor": 2
}

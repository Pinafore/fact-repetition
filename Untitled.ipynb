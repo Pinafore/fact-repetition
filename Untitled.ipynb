{
 "cells": [
  {
   "cell_type": "code",
   "execution_count": 16,
   "metadata": {},
   "outputs": [],
   "source": [
    "import os\n",
    "import json\n",
    "import pickle\n",
    "import requests\n",
    "import collections\n",
    "import pandas as pd\n",
    "import numpy as np\n",
    "from tqdm import tqdm"
   ]
  },
  {
   "cell_type": "code",
   "execution_count": null,
   "metadata": {},
   "outputs": [],
   "source": [
    "with open('data/jeopardy_358974_questions_20190612.pkl', 'rb') as f:\n",
    "    karl_to_question_id = pickle.load(f).to_dict()['questionid']\n",
    "    \n",
    "def get_result(card):\n",
    "    record_id = karl_to_question_id[int(card['question_id'])]\n",
    "    prob = (records_df[records_df.question_id == record_id]['correct'] / 2 + 0.5).mean()\n",
    "    return 'correct' if prob > 0.5 else 'wrong'"
   ]
  },
  {
   "cell_type": "code",
   "execution_count": null,
   "metadata": {
    "scrolled": false
   },
   "outputs": [],
   "source": [
    "param = {\n",
    "    'qrep': 0.7,\n",
    "    'prob_difficult': 0.3,\n",
    "    'prob_easy': 10,\n",
    "    'category': -0.7,\n",
    "    'recency': 1.0,\n",
    "    'leitner': 1.0,\n",
    "    'lr_prob_correct': 0.1,\n",
    "    'lr_prob_wrong': 0.05,\n",
    "    'lr_qrep': 0.3,\n",
    "}\n",
    "r = requests.post('http://127.0.0.1:8000/api/karl/set_hyperparameter', data=json.dumps(param))\n",
    "r = json.loads(r.text)\n",
    "\n",
    "with open('diagnostic_flashcards.pkl', 'rb') as f:\n",
    "    flashcards = pickle.load(f)\n",
    "    \n",
    "requests.post('http://127.0.0.1:8000/api/karl/reset')\n",
    "\n",
    "shown_cards = []\n",
    "while len(shown_cards) < 300:\n",
    "    r = requests.post('http://127.0.0.1:8000/api/karl/schedule', data=json.dumps(flashcards))\n",
    "    r = json.loads(r.text)\n",
    "    card_order = r['card_order']\n",
    "    # print(r['curr_prob'], r['probs'][card_order[0]])\n",
    "    show_card = flashcards[card_order[0]]\n",
    "    show_card['label'] = get_result(show_card)\n",
    "    print('{: <40} {: <20} {: <20}'.format(show_card['answer'], show_card['category'], show_card['label']))\n",
    "    shown_cards.append(flashcards[card_order[0]])\n",
    "    r = requests.post('http://127.0.0.1:8000/api/karl/update', data=json.dumps([show_card]))\n",
    "    flashcards = [x for x in flashcards if x['question_id'] != show_card['question_id']]"
   ]
  },
  {
   "cell_type": "code",
   "execution_count": 2,
   "metadata": {},
   "outputs": [],
   "source": [
    "with open('data/jeopardy_358974_questions_20190612.pkl', 'rb') as f:\n",
    "    roger_questions = pickle.load(f)\n",
    "with open('data/jeopardy_310326_question_player_pairs_20190612.pkl', 'rb') as f:\n",
    "    roger_records = pickle.load(f)\n",
    "with open('data/searchqa.json', 'r') as f:\n",
    "    searchqa_questions = json.load(f)"
   ]
  },
  {
   "cell_type": "code",
   "execution_count": 3,
   "metadata": {},
   "outputs": [
    {
     "data": {
      "text/plain": [
       "216930"
      ]
     },
     "execution_count": 3,
     "metadata": {},
     "output_type": "execute_result"
    }
   ],
   "source": [
    "len(searchqa_questions)"
   ]
  },
  {
   "cell_type": "code",
   "execution_count": 4,
   "metadata": {},
   "outputs": [
    {
     "data": {
      "text/html": [
       "<div>\n",
       "<style scoped>\n",
       "    .dataframe tbody tr th:only-of-type {\n",
       "        vertical-align: middle;\n",
       "    }\n",
       "\n",
       "    .dataframe tbody tr th {\n",
       "        vertical-align: top;\n",
       "    }\n",
       "\n",
       "    .dataframe thead th {\n",
       "        text-align: right;\n",
       "    }\n",
       "</style>\n",
       "<table border=\"1\" class=\"dataframe\">\n",
       "  <thead>\n",
       "    <tr style=\"text-align: right;\">\n",
       "      <th></th>\n",
       "      <th>question_id</th>\n",
       "      <th>player_id</th>\n",
       "      <th>correct</th>\n",
       "      <th>timestamp</th>\n",
       "    </tr>\n",
       "  </thead>\n",
       "  <tbody>\n",
       "    <tr>\n",
       "      <td>73</td>\n",
       "      <td>697-2-4</td>\n",
       "      <td>player_007</td>\n",
       "      <td>1</td>\n",
       "      <td>2010-01-01 00:00:00</td>\n",
       "    </tr>\n",
       "    <tr>\n",
       "      <td>74</td>\n",
       "      <td>697-2-5</td>\n",
       "      <td>player_007</td>\n",
       "      <td>1</td>\n",
       "      <td>2010-01-01 00:00:00</td>\n",
       "    </tr>\n",
       "    <tr>\n",
       "      <td>75</td>\n",
       "      <td>697-3-1</td>\n",
       "      <td>player_007</td>\n",
       "      <td>1</td>\n",
       "      <td>2010-01-01 00:00:00</td>\n",
       "    </tr>\n",
       "    <tr>\n",
       "      <td>76</td>\n",
       "      <td>697-3-2</td>\n",
       "      <td>player_007</td>\n",
       "      <td>1</td>\n",
       "      <td>2010-01-01 00:00:00</td>\n",
       "    </tr>\n",
       "    <tr>\n",
       "      <td>77</td>\n",
       "      <td>697-3-3</td>\n",
       "      <td>player_007</td>\n",
       "      <td>1</td>\n",
       "      <td>2010-01-01 00:00:00</td>\n",
       "    </tr>\n",
       "    <tr>\n",
       "      <td>...</td>\n",
       "      <td>...</td>\n",
       "      <td>...</td>\n",
       "      <td>...</td>\n",
       "      <td>...</td>\n",
       "    </tr>\n",
       "    <tr>\n",
       "      <td>319112</td>\n",
       "      <td>2418-13-1</td>\n",
       "      <td>player_005</td>\n",
       "      <td>1</td>\n",
       "      <td>2019-06-06 23:59:22</td>\n",
       "    </tr>\n",
       "    <tr>\n",
       "      <td>319113</td>\n",
       "      <td>3620-13-1</td>\n",
       "      <td>player_005</td>\n",
       "      <td>1</td>\n",
       "      <td>2019-06-06 23:59:32</td>\n",
       "    </tr>\n",
       "    <tr>\n",
       "      <td>319114</td>\n",
       "      <td>1266-13-1</td>\n",
       "      <td>player_005</td>\n",
       "      <td>-1</td>\n",
       "      <td>2019-06-06 23:59:43</td>\n",
       "    </tr>\n",
       "    <tr>\n",
       "      <td>319115</td>\n",
       "      <td>3373-13-1</td>\n",
       "      <td>player_005</td>\n",
       "      <td>1</td>\n",
       "      <td>2019-06-06 23:59:50</td>\n",
       "    </tr>\n",
       "    <tr>\n",
       "      <td>319116</td>\n",
       "      <td>362-13-1</td>\n",
       "      <td>player_005</td>\n",
       "      <td>1</td>\n",
       "      <td>2019-06-06 23:59:58</td>\n",
       "    </tr>\n",
       "  </tbody>\n",
       "</table>\n",
       "<p>310326 rows × 4 columns</p>\n",
       "</div>"
      ],
      "text/plain": [
       "       question_id   player_id correct            timestamp\n",
       "73         697-2-4  player_007       1  2010-01-01 00:00:00\n",
       "74         697-2-5  player_007       1  2010-01-01 00:00:00\n",
       "75         697-3-1  player_007       1  2010-01-01 00:00:00\n",
       "76         697-3-2  player_007       1  2010-01-01 00:00:00\n",
       "77         697-3-3  player_007       1  2010-01-01 00:00:00\n",
       "...            ...         ...     ...                  ...\n",
       "319112   2418-13-1  player_005       1  2019-06-06 23:59:22\n",
       "319113   3620-13-1  player_005       1  2019-06-06 23:59:32\n",
       "319114   1266-13-1  player_005      -1  2019-06-06 23:59:43\n",
       "319115   3373-13-1  player_005       1  2019-06-06 23:59:50\n",
       "319116    362-13-1  player_005       1  2019-06-06 23:59:58\n",
       "\n",
       "[310326 rows x 4 columns]"
      ]
     },
     "execution_count": 4,
     "metadata": {},
     "output_type": "execute_result"
    }
   ],
   "source": [
    "roger_records"
   ]
  },
  {
   "cell_type": "code",
   "execution_count": 5,
   "metadata": {},
   "outputs": [
    {
     "data": {
      "text/plain": [
       "{'category': 'HISTORY',\n",
       " 'air_date': '2004-12-31',\n",
       " 'question': \"'For the last 8 years of his life, Galileo was under house arrest for espousing this man's theory'\",\n",
       " 'value': '$200',\n",
       " 'answer': 'Copernicus',\n",
       " 'round': 'Jeopardy!',\n",
       " 'show_number': '4680'}"
      ]
     },
     "execution_count": 5,
     "metadata": {},
     "output_type": "execute_result"
    }
   ],
   "source": [
    "searchqa_questions[0]"
   ]
  },
  {
   "cell_type": "code",
   "execution_count": 19,
   "metadata": {},
   "outputs": [
    {
     "name": "stderr",
     "output_type": "stream",
     "text": [
      "100%|██████████| 216930/216930 [03:09<00:00, 1142.34it/s]\n"
     ]
    }
   ],
   "source": [
    "from whoosh.index import create_in\n",
    "from whoosh.fields import *\n",
    "\n",
    "schema = Schema(\n",
    "    category=KEYWORD(stored=True),\n",
    "    air_date=DATETIME(stored=True),\n",
    "    question=TEXT(stored=True),\n",
    "    value=STORED,\n",
    "    answer=KEYWORD(stored=True),\n",
    "    round=KEYWORD(stored=True),\n",
    "    show_number=KEYWORD(stored=True),\n",
    ")\n",
    "index_dir = 'whoosh_index'\n",
    "if not os.path.exists(index_dir):\n",
    "    os.mkdir(index_dir)\n",
    "ix = create_in(index_dir, schema)\n",
    "writer = ix.writer()\n",
    "for q in tqdm(searchqa_questions):\n",
    "    writer.add_document(\n",
    "        category=q['category'],\n",
    "        air_date=q['air_date'],\n",
    "        question=q['question'],\n",
    "        value=q['value'],\n",
    "        answer=q['answer'],\n",
    "        round=q['round'],\n",
    "        show_number=q['show_number']\n",
    "    )\n",
    "writer.commit()"
   ]
  },
  {
   "cell_type": "code",
   "execution_count": 20,
   "metadata": {},
   "outputs": [
    {
     "name": "stdout",
     "output_type": "stream",
     "text": [
      "<Hit {'air_date': '2008-02-05', 'answer': 'Napoleon', 'category': 'NONFICTION PEOPLE', 'question': '\\'\"The Corsican\" is a diary of his life \"In His Own Words\"\\'', 'round': 'Jeopardy!', 'show_number': '5392', 'value': '$1000'}>\n"
     ]
    }
   ],
   "source": [
    "from whoosh.qparser import QueryParser\n",
    "with ix.searcher() as searcher:\n",
    "    query = QueryParser(\"question\", ix.schema).parse(\"his life\")\n",
    "    results = searcher.search(query)\n",
    "    print(results[0])"
   ]
  },
  {
   "cell_type": "code",
   "execution_count": null,
   "metadata": {},
   "outputs": [],
   "source": []
  }
 ],
 "metadata": {
  "kernelspec": {
   "display_name": "Python 3",
   "language": "python",
   "name": "python3"
  },
  "language_info": {
   "codemirror_mode": {
    "name": "ipython",
    "version": 3
   },
   "file_extension": ".py",
   "mimetype": "text/x-python",
   "name": "python",
   "nbconvert_exporter": "python",
   "pygments_lexer": "ipython3",
   "version": "3.7.3"
  }
 },
 "nbformat": 4,
 "nbformat_minor": 2
}

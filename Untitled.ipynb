{
 "cells": [
  {
   "cell_type": "code",
   "execution_count": 1,
   "metadata": {},
   "outputs": [],
   "source": [
    "import os\n",
    "import json\n",
    "import pickle\n",
    "import requests\n",
    "import collection\n",
    "import pandas as pd\n",
    "import numpy as np\n",
    "from tqdm import tqdm"
   ]
  },
  {
   "cell_type": "code",
   "execution_count": null,
   "metadata": {},
   "outputs": [],
   "source": [
    "with open('data/jeopardy_358974_questions_20190612.pkl', 'rb') as f:\n",
    "    karl_to_question_id = pickle.load(f).to_dict()['questionid']\n",
    "    \n",
    "def get_result(card):\n",
    "    record_id = karl_to_question_id[int(card['question_id'])]\n",
    "    prob = (records_df[records_df.question_id == record_id]['correct'] / 2 + 0.5).mean()\n",
    "    return 'correct' if prob > 0.5 else 'wrong'"
   ]
  },
  {
   "cell_type": "code",
   "execution_count": null,
   "metadata": {
    "scrolled": false
   },
   "outputs": [],
   "source": [
    "param = {\n",
    "    'qrep': 0.7,\n",
    "    'prob_difficult': 0.3,\n",
    "    'prob_easy': 10,\n",
    "    'category': -0.7,\n",
    "    'recency': 1.0,\n",
    "    'leitner': 1.0,\n",
    "    'lr_prob_correct': 0.1,\n",
    "    'lr_prob_wrong': 0.05,\n",
    "    'lr_qrep': 0.3,\n",
    "}\n",
    "r = requests.post('http://127.0.0.1:8000/api/karl/set_hyperparameter', data=json.dumps(param))\n",
    "r = json.loads(r.text)\n",
    "\n",
    "with open('diagnostic_flashcards.pkl', 'rb') as f:\n",
    "    flashcards = pickle.load(f)\n",
    "    \n",
    "requests.post('http://127.0.0.1:8000/api/karl/reset')\n",
    "\n",
    "shown_cards = []\n",
    "while len(shown_cards) < 300:\n",
    "    r = requests.post('http://127.0.0.1:8000/api/karl/schedule', data=json.dumps(flashcards))\n",
    "    r = json.loads(r.text)\n",
    "    card_order = r['card_order']\n",
    "    # print(r['curr_prob'], r['probs'][card_order[0]])\n",
    "    show_card = flashcards[card_order[0]]\n",
    "    show_card['label'] = get_result(show_card)\n",
    "    print('{: <40} {: <20} {: <20}'.format(show_card['answer'], show_card['category'], show_card['label']))\n",
    "    shown_cards.append(flashcards[card_order[0]])\n",
    "    r = requests.post('http://127.0.0.1:8000/api/karl/update', data=json.dumps([show_card]))\n",
    "    flashcards = [x for x in flashcards if x['question_id'] != show_card['question_id']]"
   ]
  },
  {
   "cell_type": "code",
   "execution_count": null,
   "metadata": {},
   "outputs": [],
   "source": [
    "with open('data/jeopardy_358974_questions_20190612.pkl', 'rb') as f:\n",
    "    roger_questions = pickle.load(f)\n",
    "with open('data/jeopardy_310326_question_player_pairs_20190612.pkl', 'rb') as f:\n",
    "    roger_records = pickle.load(f)\n",
    "with open('data/searchqa.json', 'r') as f:\n",
    "    searchqa_questions = json.load(f)"
   ]
  },
  {
   "cell_type": "code",
   "execution_count": null,
   "metadata": {},
   "outputs": [],
   "source": [
    "len(searchqa_questions)"
   ]
  },
  {
   "cell_type": "code",
   "execution_count": null,
   "metadata": {},
   "outputs": [],
   "source": [
    "roger_records"
   ]
  },
  {
   "cell_type": "code",
   "execution_count": null,
   "metadata": {},
   "outputs": [],
   "source": [
    "searchqa_questions[0]"
   ]
  },
  {
   "cell_type": "code",
   "execution_count": null,
   "metadata": {},
   "outputs": [],
   "source": [
    "from whoosh.index import create_in\n",
    "from whoosh.fields import *\n",
    "\n",
    "schema = Schema(\n",
    "    category=KEYWORD(stored=True),\n",
    "    air_date=DATETIME(stored=True),\n",
    "    question=TEXT(stored=True),\n",
    "    value=STORED,\n",
    "    answer=KEYWORD(stored=True),\n",
    "    round=KEYWORD(stored=True),\n",
    "    show_number=KEYWORD(stored=True),\n",
    ")\n",
    "index_dir = 'whoosh_index'\n",
    "if not os.path.exists(index_dir):\n",
    "    os.mkdir(index_dir)\n",
    "ix = create_in(index_dir, schema)\n",
    "writer = ix.writer()\n",
    "for q in tqdm(searchqa_questions):\n",
    "    writer.add_document(\n",
    "        category=q['category'],\n",
    "        air_date=q['air_date'],\n",
    "        question=q['question'],\n",
    "        value=q['value'],\n",
    "        answer=q['answer'],\n",
    "        round=q['round'],\n",
    "        show_number=q['show_number']\n",
    "    )\n",
    "writer.commit()"
   ]
  },
  {
   "cell_type": "code",
   "execution_count": null,
   "metadata": {},
   "outputs": [],
   "source": [
    "from whoosh.qparser import QueryParser\n",
    "with ix.searcher() as searcher:\n",
    "    query = QueryParser(\"question\", ix.schema).parse(\"his life\")\n",
    "    results = searcher.search(query)\n",
    "    print(results[0])"
   ]
  },
  {
   "cell_type": "code",
   "execution_count": null,
   "metadata": {},
   "outputs": [],
   "source": []
  }
 ],
 "metadata": {
  "kernelspec": {
   "display_name": "Python 3",
   "language": "python",
   "name": "python3"
  },
  "language_info": {
   "codemirror_mode": {
    "name": "ipython",
    "version": 3
   },
   "file_extension": ".py",
   "mimetype": "text/x-python",
   "name": "python",
   "nbconvert_exporter": "python",
   "pygments_lexer": "ipython3",
   "version": "3.7.3"
  }
 },
 "nbformat": 4,
 "nbformat_minor": 2
}

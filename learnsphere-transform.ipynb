{
 "cells": [
  {
   "cell_type": "code",
   "execution_count": 2,
   "metadata": {},
   "outputs": [],
   "source": [
    "import pandas as pd"
   ]
  },
  {
   "cell_type": "code",
   "execution_count": 3,
   "metadata": {},
   "outputs": [
    {
     "name": "stdout",
     "output_type": "stream",
     "text": [
      "Index(['user_id', 'card_id', 'card_text', 'is_new_fact',\n",
      "       'user_n_study_positive', 'user_n_study_negative', 'user_n_study_total',\n",
      "       'card_n_study_positive', 'card_n_study_negative', 'card_n_study_total',\n",
      "       'usercard_n_study_positive', 'usercard_n_study_negative',\n",
      "       'usercard_n_study_total', 'acc_user', 'acc_card', 'acc_usercard',\n",
      "       'usercard_delta', 'usercard_delta_previous',\n",
      "       'usercard_previous_study_response', 'leitner_box', 'sm2_efactor',\n",
      "       'sm2_interval', 'sm2_repetition', 'delta_to_leitner_scheduled_date',\n",
      "       'delta_to_sm2_scheduled_date', 'repetition_model',\n",
      "       'elapsed_milliseconds', 'correct_on_first_try', 'utc_datetime',\n",
      "       'utc_date', 'label', 'debug_id', 'n_minutes_spent'],\n",
      "      dtype='object')\n"
     ]
    }
   ],
   "source": [
    "\n",
    "df = pd.read_hdf(\"./retention_features.h5\")\n",
    "print(df.columns)"
   ]
  },
  {
   "cell_type": "code",
   "execution_count": 4,
   "metadata": {},
   "outputs": [],
   "source": [
    "\n",
    "df.rename(columns = {'label':'response'}, inplace = True)"
   ]
  },
  {
   "cell_type": "code",
   "execution_count": null,
   "metadata": {},
   "outputs": [],
   "source": [
    "import uuid\n",
    "# Adapted from \n",
    "# https://stackoverflow.com/questions/66366449/how-to-generate-8-digit-unique-identifier-to-replace-the-existing-one-in-python\n",
    "original_ids = df['user_id'].unique()\n",
    "new_ids = {cid: uuid.uuid4().int for cid in original_ids}\n",
    "df['Anon Student Id'] = df['user_id'].map(new_ids)"
   ]
  },
  {
   "cell_type": "code",
   "execution_count": null,
   "metadata": {},
   "outputs": [],
   "source": [
    "df.drop(['C'], inplace=True, axis=1)"
   ]
  }
 ],
 "metadata": {
  "kernelspec": {
   "display_name": "Python 3.10.4 ('scheduler-xfXz0Mu8-py3.10')",
   "language": "python",
   "name": "python3"
  },
  "language_info": {
   "codemirror_mode": {
    "name": "ipython",
    "version": 3
   },
   "file_extension": ".py",
   "mimetype": "text/x-python",
   "name": "python",
   "nbconvert_exporter": "python",
   "pygments_lexer": "ipython3",
   "version": "3.10.4"
  },
  "orig_nbformat": 4,
  "vscode": {
   "interpreter": {
    "hash": "9f7940501ef433f6039d5db707970c3cd42fba5a4613443dd730a413e02a896e"
   }
  }
 },
 "nbformat": 4,
 "nbformat_minor": 2
}

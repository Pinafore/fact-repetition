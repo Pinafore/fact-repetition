{
 "cells": [
  {
   "cell_type": "code",
   "execution_count": 18,
   "metadata": {},
   "outputs": [],
   "source": [
    "import pandas as pd"
   ]
  },
  {
   "cell_type": "code",
   "execution_count": 19,
   "metadata": {},
   "outputs": [
    {
     "name": "stdout",
     "output_type": "stream",
     "text": [
      "Index(['user_id', 'card_id', 'card_text', 'is_new_fact',\n",
      "       'user_n_study_positive', 'user_n_study_negative', 'user_n_study_total',\n",
      "       'card_n_study_positive', 'card_n_study_negative', 'card_n_study_total',\n",
      "       'usercard_n_study_positive', 'usercard_n_study_negative',\n",
      "       'usercard_n_study_total', 'acc_user', 'acc_card', 'acc_usercard',\n",
      "       'usercard_delta', 'usercard_delta_previous',\n",
      "       'usercard_previous_study_response', 'leitner_box', 'sm2_efactor',\n",
      "       'sm2_interval', 'sm2_repetition', 'delta_to_leitner_scheduled_date',\n",
      "       'delta_to_sm2_scheduled_date', 'repetition_model',\n",
      "       'elapsed_milliseconds', 'correct_on_first_try', 'utc_date', 'response',\n",
      "       'n_minutes_spent', 'deck_id', 'deck_name'],\n",
      "      dtype='object')\n"
     ]
    }
   ],
   "source": [
    "\n",
    "df = pd.read_hdf(\"./retention_features_new.h5\")\n",
    "print(df.columns)"
   ]
  },
  {
   "cell_type": "code",
   "execution_count": 20,
   "metadata": {},
   "outputs": [
    {
     "data": {
      "text/plain": [
       "<bound method NDFrame.head of       user_id card_id                                          card_text  \\\n",
       "0          46   26811  People of the steppes of central Asia, governe...   \n",
       "1          46   39163   Depose Hassan, the last Dey ruler of this city.    \n",
       "2          46   31494  The historian Bede was from, this kingdom cent...   \n",
       "3          46   22848  Kara Mustafa's attempts to take Vienna were th...   \n",
       "4          46   33260  Man overthrown by Francisco Pizarro, an Incan ...   \n",
       "...       ...     ...                                                ...   \n",
       "99200     598   32264  The release of nitrogen gas from AIBN is coupl...   \n",
       "99201     598   26600  This chemist is the first namesake of a reacti...   \n",
       "99202     598   26630  Concerted substitution reaction mechanism whic...   \n",
       "99203     598   20570  Gutmann introduced a measure that increases wi...   \n",
       "99204     598   28907  These materials were discovered when it was no...   \n",
       "\n",
       "       is_new_fact  user_n_study_positive  user_n_study_negative  \\\n",
       "0             True                      0                      0   \n",
       "1             True                      1                      0   \n",
       "2             True                      1                      1   \n",
       "3             True                      1                      2   \n",
       "4             True                      2                      2   \n",
       "...            ...                    ...                    ...   \n",
       "99200         True                      0                     17   \n",
       "99201        False                      0                     18   \n",
       "99202         True                      0                     19   \n",
       "99203         True                      0                     20   \n",
       "99204         True                      0                     21   \n",
       "\n",
       "       user_n_study_total  card_n_study_positive  card_n_study_negative  \\\n",
       "0                       0                      0                      0   \n",
       "1                       1                      0                      0   \n",
       "2                       2                      0                      0   \n",
       "3                       3                      0                      0   \n",
       "4                       4                      0                      0   \n",
       "...                   ...                    ...                    ...   \n",
       "99200                  17                      0                      1   \n",
       "99201                  18                      0                      7   \n",
       "99202                  19                      0                      0   \n",
       "99203                  20                      0                      0   \n",
       "99204                  21                      0                      1   \n",
       "\n",
       "       card_n_study_total  ...  delta_to_leitner_scheduled_date  \\\n",
       "0                       0  ...                                0   \n",
       "1                       0  ...                                0   \n",
       "2                       0  ...                                0   \n",
       "3                       0  ...                                0   \n",
       "4                       0  ...                                0   \n",
       "...                   ...  ...                              ...   \n",
       "99200                   1  ...                                0   \n",
       "99201                   7  ...                              -12   \n",
       "99202                   0  ...                                0   \n",
       "99203                   0  ...                                0   \n",
       "99204                   1  ...                                0   \n",
       "\n",
       "       delta_to_sm2_scheduled_date  repetition_model  elapsed_milliseconds  \\\n",
       "0                                0           karl100                  5000   \n",
       "1                                0           karl100                  1000   \n",
       "2                                0           karl100                  5000   \n",
       "3                                0           karl100                  3000   \n",
       "4                                0           karl100                  4000   \n",
       "...                            ...               ...                   ...   \n",
       "99200                            0            karl85                  3250   \n",
       "99201                          -12            karl85                  1000   \n",
       "99202                            0            karl85                  5500   \n",
       "99203                            0            karl85                 10500   \n",
       "99204                            0            karl85                  8750   \n",
       "\n",
       "       correct_on_first_try    utc_date  response  n_minutes_spent  deck_id  \\\n",
       "0                     False  2020-07-15      True                0        4   \n",
       "1                     False  2020-07-15     False                0        4   \n",
       "2                     False  2020-07-15     False                0        4   \n",
       "3                     False  2020-07-15      True                0        4   \n",
       "4                     False  2020-07-15      True                0        4   \n",
       "...                     ...         ...       ...              ...      ...   \n",
       "99200                 False  2020-12-18     False                3        7   \n",
       "99201                 False  2020-12-18     False                3        7   \n",
       "99202                 False  2020-12-18     False                3        7   \n",
       "99203                 False  2020-12-18     False                3        7   \n",
       "99204                 False  2020-12-18     False                3        7   \n",
       "\n",
       "       deck_name  \n",
       "0        History  \n",
       "1        History  \n",
       "2        History  \n",
       "3        History  \n",
       "4        History  \n",
       "...          ...  \n",
       "99200    Science  \n",
       "99201    Science  \n",
       "99202    Science  \n",
       "99203    Science  \n",
       "99204    Science  \n",
       "\n",
       "[99205 rows x 33 columns]>"
      ]
     },
     "execution_count": 20,
     "metadata": {},
     "output_type": "execute_result"
    }
   ],
   "source": [
    "df.head"
   ]
  },
  {
   "cell_type": "code",
   "execution_count": 21,
   "metadata": {},
   "outputs": [],
   "source": [
    "df_orig = df.copy()\n",
    "# df.rename(columns = {'label':'response'}, inplace = True)"
   ]
  },
  {
   "cell_type": "code",
   "execution_count": 22,
   "metadata": {},
   "outputs": [],
   "source": [
    "import uuid\n",
    "# Adapted from \n",
    "# https://stackoverflow.com/questions/66366449/how-to-generate-8-digit-unique-identifier-to-replace-the-existing-one-in-python\n",
    "original_ids = df['user_id'].unique()\n",
    "new_ids = {cid: uuid.uuid4().int for cid in original_ids}\n",
    "df['Anon Student Id'] = df['user_id'].map(new_ids)\n",
    "# Make each session id a user id"
   ]
  },
  {
   "cell_type": "code",
   "execution_count": 23,
   "metadata": {},
   "outputs": [
    {
     "data": {
      "text/plain": [
       "<bound method NDFrame.head of 0        2020-07-15\n",
       "1        2020-07-15\n",
       "2        2020-07-15\n",
       "3        2020-07-15\n",
       "4        2020-07-15\n",
       "            ...    \n",
       "99200    2020-12-18\n",
       "99201    2020-12-18\n",
       "99202    2020-12-18\n",
       "99203    2020-12-18\n",
       "99204    2020-12-18\n",
       "Name: utc_date, Length: 99205, dtype: object>"
      ]
     },
     "execution_count": 23,
     "metadata": {},
     "output_type": "execute_result"
    }
   ],
   "source": [
    " df['utc_date'].head"
   ]
  },
  {
   "cell_type": "code",
   "execution_count": 24,
   "metadata": {},
   "outputs": [
    {
     "data": {
      "text/plain": [
       "<bound method NDFrame.head of 0        2020-07-15 00:00\n",
       "1        2020-07-15 00:00\n",
       "2        2020-07-15 00:00\n",
       "3        2020-07-15 00:00\n",
       "4        2020-07-15 00:00\n",
       "               ...       \n",
       "99200    2020-12-18 00:00\n",
       "99201    2020-12-18 00:00\n",
       "99202    2020-12-18 00:00\n",
       "99203    2020-12-18 00:00\n",
       "99204    2020-12-18 00:00\n",
       "Name: Time, Length: 99205, dtype: object>"
      ]
     },
     "execution_count": 24,
     "metadata": {},
     "output_type": "execute_result"
    }
   ],
   "source": [
    "# Note this gets rid of milliseconds, as it seems datashop only takes up to three decimal places while %f is six\n",
    "df['Time'] = df['utc_date'].apply(lambda x: str(x) + \" 00:00\")\n",
    "# df['Time'] = df['utc_date'].dt.strftime('%Y-%m-%d %H:%M:%S')\n",
    "df['Time'].head"
   ]
  },
  {
   "cell_type": "code",
   "execution_count": 25,
   "metadata": {},
   "outputs": [],
   "source": [
    "# No need for level? Is level different from KC\n",
    "# https://pslcdatashop.web.cmu.edu/help?page=importFormatTd\n",
    "df['Level (Deck)'] = df['deck_id'].apply(lambda x:\"Level (\" + x + \")\")\n",
    "# df['Problem Name'] = df['card_text']"
   ]
  },
  {
   "cell_type": "code",
   "execution_count": 26,
   "metadata": {},
   "outputs": [],
   "source": [
    "df['Problem Name'] = df['card_id']"
   ]
  },
  {
   "cell_type": "code",
   "execution_count": 27,
   "metadata": {},
   "outputs": [],
   "source": [
    "# df['Action'] = \"Answer Question\" "
   ]
  },
  {
   "cell_type": "code",
   "execution_count": 28,
   "metadata": {},
   "outputs": [],
   "source": [
    "df['Condition Name'] = df['repetition_model']"
   ]
  },
  {
   "cell_type": "code",
   "execution_count": 29,
   "metadata": {},
   "outputs": [],
   "source": [
    "df['Condition Type'] = \"Repetition Model\""
   ]
  },
  {
   "cell_type": "code",
   "execution_count": 31,
   "metadata": {},
   "outputs": [],
   "source": [
    "# df.drop(['user_id'], inplace=True, axis=1)\n",
    "df[\"Outcome\"] = df['response'].apply(lambda x: \"CORRECT\" if x else \"INCORRECT\")\n",
    "# df['Step Name'] = df['usercard_n_study_total']\n",
    "df['Step Name'] = \"Flashcard\"\n",
    "# df['Session ID'] = df['index']\n",
    "learnsphere_df = df[[\"Anon Student Id\", \"Time\", \"Level (Deck)\", \"Problem Name\", \"Step Name\", \"Outcome\", \"Condition Name\", \"Condition Type\"]]\n",
    "# TODO: Create session id"
   ]
  },
  {
   "cell_type": "code",
   "execution_count": null,
   "metadata": {},
   "outputs": [],
   "source": [
    "learnsphere_df.index.names = [\"Session Id\"]"
   ]
  },
  {
   "cell_type": "code",
   "execution_count": null,
   "metadata": {},
   "outputs": [],
   "source": [
    "learnsphere_df.to_csv(\"22-07-27-learnsphere_karl.txt\", sep=\"\\t\")"
   ]
  }
 ],
 "metadata": {
  "kernelspec": {
   "display_name": "Python 3.10.4 ('scheduler-xfXz0Mu8-py3.10')",
   "language": "python",
   "name": "python3"
  },
  "language_info": {
   "codemirror_mode": {
    "name": "ipython",
    "version": 3
   },
   "file_extension": ".py",
   "mimetype": "text/x-python",
   "name": "python",
   "nbconvert_exporter": "python",
   "pygments_lexer": "ipython3",
   "version": "3.10.4"
  },
  "orig_nbformat": 4,
  "vscode": {
   "interpreter": {
    "hash": "9f7940501ef433f6039d5db707970c3cd42fba5a4613443dd730a413e02a896e"
   }
  }
 },
 "nbformat": 4,
 "nbformat_minor": 2
}
